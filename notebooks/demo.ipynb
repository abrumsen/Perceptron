{
 "cells": [
  {
   "metadata": {},
   "cell_type": "markdown",
   "source": "# Démonstration du fonctionnement de la classe Neuron",
   "id": "8e33b17d9ec08db4"
  },
  {
   "metadata": {
    "ExecuteTime": {
     "end_time": "2025-05-05T09:11:10.885176Z",
     "start_time": "2025-05-05T09:11:10.874753Z"
    }
   },
   "cell_type": "code",
   "source": [
    "import numpy as np\n",
    "from ml.activation import Activation\n",
    "from ml.neuron import Neuron\n",
    "\n",
    "neuron = Neuron(input_size=3, activation=Activation(\"sigmoid\", c=3))\n",
    "\n",
    "neuron.weights = np.ones_like(neuron.weights) # set to 0 for demo purposes\n",
    "neuron.bias = 0 # same\n",
    "\n",
    "x = np.array([2.0, -0.1, 0.1])\n",
    "output = neuron.forward(x)\n",
    "\n",
    "print(neuron)\n",
    "print(\"Weights:\", neuron.weights)\n",
    "print(\"Bias:\", neuron.bias)\n",
    "print(\"Linear Output (z):\", neuron.z)\n",
    "print(\"Activated Output (a):\", output)"
   ],
   "id": "8a1ef6065e4c4fa2",
   "outputs": [
    {
     "name": "stdout",
     "output_type": "stream",
     "text": [
      "Neuron(weights=[1. 1. 1.])\n",
      "Weights: [1. 1. 1.]\n",
      "Bias: 0\n",
      "Linear Output (z): 2.0\n",
      "Activated Output (a): 0.9975273768433653\n"
     ]
    }
   ],
   "execution_count": 5
  },
  {
   "metadata": {},
   "cell_type": "markdown",
   "source": "# Démonstration du fonctionnement de la classe Layer",
   "id": "51579ae347fb28a8"
  },
  {
   "metadata": {
    "ExecuteTime": {
     "end_time": "2025-05-05T09:12:32.309275Z",
     "start_time": "2025-05-05T09:12:32.302453Z"
    }
   },
   "cell_type": "code",
   "source": [
    "import numpy as np\n",
    "from ml.layer import Layer\n",
    "\n",
    "layer = Layer(units=2,activation=\"sigmoid\",input_size=3, c=3)\n",
    "\n",
    "for neuron in layer.neurons: # Set neuron values for demo purposes\n",
    "    neuron.weights = np.ones_like(neuron.weights)\n",
    "    neuron.bias = 0\n",
    "\n",
    "x = np.array([2.0, -0.1, 0.1])\n",
    "output = layer.forward(x)\n",
    "\n",
    "print(layer)\n",
    "print(\"Linear outputs :\", [neuron.z for neuron in layer.neurons])\n",
    "print(\"Activated Outputs :\", output)"
   ],
   "id": "4a40d739c077ee80",
   "outputs": [
    {
     "name": "stdout",
     "output_type": "stream",
     "text": [
      "Layer(Neurons:[Neuron(weights=[1. 1. 1.]), Neuron(weights=[1. 1. 1.])], Activation:Activation(name='sigmoid', params={'c': 3}))\n",
      "Linear outputs : [np.float64(2.0), np.float64(2.0)]\n",
      "Activated Outputs : [0.99752738 0.99752738]\n"
     ]
    }
   ],
   "execution_count": 7
  },
  {
   "metadata": {},
   "cell_type": "markdown",
   "source": "# Démonstration du fonctionnement de la classe Model",
   "id": "5844e56c69cbebc9"
  },
  {
   "metadata": {
    "ExecuteTime": {
     "end_time": "2025-05-05T09:14:35.186595Z",
     "start_time": "2025-05-05T09:14:35.174151Z"
    }
   },
   "cell_type": "code",
   "source": [
    "import numpy as np\n",
    "from ml.layer import Layer\n",
    "from ml.model import Model\n",
    "\n",
    "def debug_forward(model, x):\n",
    "    print(f\"Input: {x}\")\n",
    "    for i, layer in enumerate(model.layers):\n",
    "        x = layer.forward(x)\n",
    "        z_vals = [neuron.z for neuron in layer.neurons]\n",
    "        a_vals = x\n",
    "        print(f\"Layer {i} - z: {z_vals}, a: {a_vals}\")\n",
    "    return x\n",
    "\n",
    "model = Model([\n",
    "    Layer(units=6, activation=\"threshold\", input_size=2),\n",
    "    Layer(units=2, activation=\"threshold\"),\n",
    "])\n",
    "\n",
    "for layer in model.layers:\n",
    "    for neuron in layer.neurons:\n",
    "        neuron.weights = np.ones_like(neuron.weights)\n",
    "        neuron.bias = 0\n",
    "\n",
    "x = np.array([0.5, -0.2])\n",
    "output = model.forward(x)\n",
    "\n",
    "print(model)\n",
    "print(f\"Model Output:\", output)\n",
    "print(\"\\nLayer by layer visualisation:\")\n",
    "debug_forward(model, x)\n"
   ],
   "id": "e1d5fc3acbeabf4b",
   "outputs": [
    {
     "name": "stdout",
     "output_type": "stream",
     "text": [
      "Model(\n",
      "  Layer 0: 6 neurons, activation=threshold\n",
      "  Layer 1: 2 neurons, activation=threshold\n",
      ")\n",
      "Model Output: [1. 1.]\n",
      "\n",
      "Layer by layer visualisation:\n",
      "Input: [ 0.5 -0.2]\n",
      "Layer 0 - z: [np.float64(0.3), np.float64(0.3), np.float64(0.3), np.float64(0.3), np.float64(0.3), np.float64(0.3)], a: [1. 1. 1. 1. 1. 1.]\n",
      "Layer 1 - z: [np.float64(6.0), np.float64(6.0)], a: [1. 1.]\n"
     ]
    },
    {
     "data": {
      "text/plain": [
       "array([1., 1.])"
      ]
     },
     "execution_count": 8,
     "metadata": {},
     "output_type": "execute_result"
    }
   ],
   "execution_count": 8
  }
 ],
 "metadata": {
  "kernelspec": {
   "display_name": "Python 3",
   "language": "python",
   "name": "python3"
  },
  "language_info": {
   "codemirror_mode": {
    "name": "ipython",
    "version": 2
   },
   "file_extension": ".py",
   "mimetype": "text/x-python",
   "name": "python",
   "nbconvert_exporter": "python",
   "pygments_lexer": "ipython2",
   "version": "2.7.6"
  }
 },
 "nbformat": 4,
 "nbformat_minor": 5
}

{
 "cells": [
  {
   "metadata": {
    "ExecuteTime": {
     "end_time": "2025-05-03T10:52:36.642532Z",
     "start_time": "2025-05-03T10:52:36.617207Z"
    }
   },
   "cell_type": "code",
   "source": [
    "import numpy as np\n",
    "from ml.neuron import Neuron\n",
    "\n",
    "neuron = Neuron(input_size=3, activation=\"threshold\")\n",
    "neuron.weights = np.ones_like(neuron.weights) # set to 0 for demo purposes\n",
    "neuron.bias = 0 # same\n",
    "x = np.array([2.0, -0.1, 0.1])\n",
    "output = neuron.forward(x)\n",
    "\n",
    "print(\"Weights:\", neuron.weights)\n",
    "print(\"Bias:\", neuron.bias)\n",
    "print(\"Linear Output (z):\", neuron.z)\n",
    "print(\"Activated Output (a):\", output)"
   ],
   "id": "8a1ef6065e4c4fa2",
   "outputs": [
    {
     "name": "stdout",
     "output_type": "stream",
     "text": [
      "Weights: [1. 1. 1.]\n",
      "Bias: 0\n",
      "Linear Output (z): 2.0\n",
      "Activated Output (a): 1.0\n"
     ]
    }
   ],
   "execution_count": 10
  }
 ],
 "metadata": {
  "kernelspec": {
   "display_name": "Python 3",
   "language": "python",
   "name": "python3"
  },
  "language_info": {
   "codemirror_mode": {
    "name": "ipython",
    "version": 2
   },
   "file_extension": ".py",
   "mimetype": "text/x-python",
   "name": "python",
   "nbconvert_exporter": "python",
   "pygments_lexer": "ipython2",
   "version": "2.7.6"
  }
 },
 "nbformat": 4,
 "nbformat_minor": 5
}

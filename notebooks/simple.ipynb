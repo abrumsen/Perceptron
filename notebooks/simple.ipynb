{
 "cells": [
  {
   "metadata": {},
   "cell_type": "markdown",
   "source": [
    "# Validations pour le perceptron simple\n",
    "## Porte logique ET"
   ],
   "id": "3e2bf5ab57ada8af"
  },
  {
   "metadata": {
    "ExecuteTime": {
     "end_time": "2025-05-06T11:06:41.175034Z",
     "start_time": "2025-05-06T11:06:41.115887Z"
    }
   },
   "cell_type": "code",
   "source": [
    "from perceptron import PerceptronSimple\n",
    "import pandas as pd\n",
    "import numpy as np\n",
    "\n",
    "perceptron = PerceptronSimple(input_size=2, learning_rate=0.3, epochs=1000)\n",
    "# Chargement des donnés\n",
    "df = pd.read_csv(\"../datasets/table_2_1.csv\", header=None)\n",
    "df.columns = [\"x1\", \"x2\", \"label\"]\n",
    "df[\"inputs\"] = df[[\"x1\", \"x2\"]].apply(lambda row: np.array([row[\"x1\"], row[\"x2\"]]), axis=1)\n",
    "df[\"inputs\"] = df[\"inputs\"].apply(lambda x: np.insert(x, 0, 1))\n",
    "df = df[[\"inputs\", \"label\"]]\n",
    "print(df)\n",
    "\n",
    "history = perceptron.train(df)\n",
    "\n",
    "for _, row in df.iterrows():\n",
    "    print(f\"{row[\"inputs\"][1:]} : {perceptron.predict(row[\"inputs\"])}\")"
   ],
   "id": "eaf200572d6c4efc",
   "outputs": [
    {
     "name": "stdout",
     "output_type": "stream",
     "text": [
      "      inputs  label\n",
      "0  [1, 0, 0]      0\n",
      "1  [1, 0, 1]      0\n",
      "2  [1, 1, 0]      0\n",
      "3  [1, 1, 1]      1\n",
      "Training complete for 8 epochs\n",
      "[0 0] : 0\n",
      "[0 1] : 0\n",
      "[1 0] : 0\n",
      "[1 1] : 1\n"
     ]
    }
   ],
   "execution_count": 9
  }
 ],
 "metadata": {
  "kernelspec": {
   "display_name": "Python 3",
   "language": "python",
   "name": "python3"
  },
  "language_info": {
   "codemirror_mode": {
    "name": "ipython",
    "version": 2
   },
   "file_extension": ".py",
   "mimetype": "text/x-python",
   "name": "python",
   "nbconvert_exporter": "python",
   "pygments_lexer": "ipython2",
   "version": "2.7.6"
  }
 },
 "nbformat": 4,
 "nbformat_minor": 5
}

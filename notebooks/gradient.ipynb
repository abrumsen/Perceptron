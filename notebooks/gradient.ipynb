{
 "cells": [
  {
   "metadata": {},
   "cell_type": "markdown",
   "source": "# Demonstration Descente du Gradient",
   "id": "132f1ff56e1775a2"
  },
  {
   "metadata": {},
   "cell_type": "markdown",
   "source": "## Opérateur logique ET (table 2.1 ou table 2.3) → mise au point",
   "id": "63c96ad503be15ef"
  },
  {
   "metadata": {},
   "cell_type": "code",
   "outputs": [],
   "execution_count": null,
   "source": "# TO DO",
   "id": "67d016404ea2242c"
  },
  {
   "metadata": {},
   "cell_type": "markdown",
   "source": "## Classification de données linéaires séparables (table 2.9)",
   "id": "53f1f2ac0b02677b"
  },
  {
   "metadata": {},
   "cell_type": "code",
   "outputs": [],
   "execution_count": null,
   "source": "# TO DO",
   "id": "a433bb3f44832ac5"
  },
  {
   "metadata": {},
   "cell_type": "markdown",
   "source": "## Classification de données non linéairement séparables (table 2.10)",
   "id": "144247337cb5ff70"
  },
  {
   "metadata": {},
   "cell_type": "code",
   "outputs": [],
   "execution_count": null,
   "source": "# TO DO",
   "id": "907c2ab82f08818c"
  },
  {
   "metadata": {},
   "cell_type": "markdown",
   "source": "## Régression linéaire (table 2.11)",
   "id": "9dec424971d614ab"
  },
  {
   "metadata": {},
   "cell_type": "code",
   "outputs": [],
   "execution_count": null,
   "source": "# TO DO",
   "id": "594fce2ace0ebee0"
  }
 ],
 "metadata": {
  "kernelspec": {
   "display_name": "Python 3",
   "language": "python",
   "name": "python3"
  },
  "language_info": {
   "codemirror_mode": {
    "name": "ipython",
    "version": 2
   },
   "file_extension": ".py",
   "mimetype": "text/x-python",
   "name": "python",
   "nbconvert_exporter": "python",
   "pygments_lexer": "ipython2",
   "version": "2.7.6"
  }
 },
 "nbformat": 4,
 "nbformat_minor": 5
}

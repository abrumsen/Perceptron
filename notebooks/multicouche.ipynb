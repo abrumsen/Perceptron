{
 "cells": [
  {
   "metadata": {},
   "cell_type": "markdown",
   "source": [
    "# Validations pour le multicouche\n",
    "## Porte logique XOR\n",
    "Commençons par construire le modèle: un modèle 2-2-1 suffit. Intuitivement, on peut se dire que chaque neurone de la couche cachée va apprendre une demi-séparation: \"x1 OR x2\" et \"x1 AND NOT x2\". Le neurone de la couche de sortie combinera ces activations pour donner le XOR."
   ],
   "id": "aac0b1da98ed5701"
  },
  {
   "metadata": {},
   "cell_type": "code",
   "outputs": [],
   "execution_count": null,
   "source": [
    "import numpy as np\n",
    "import matplotlib.pyplot as plt\n",
    "from multilayer.layer import Layer\n",
    "from multilayer.model import Model\n",
    "from utils import data_processing\n",
    "\n",
    "model = Model([\n",
    "    Layer(units=2, activation=\"sigmoid\", input_size=2),\n",
    "    Layer(units=1, activation=\"sigmoid\"),\n",
    "])"
   ],
   "id": "7329d1e24d81cf68"
  },
  {
   "metadata": {},
   "cell_type": "markdown",
   "source": "On importe le dataset du XOR depuis un fichier *.csv:",
   "id": "4e9c526bd28d33af"
  },
  {
   "metadata": {},
   "cell_type": "code",
   "outputs": [],
   "execution_count": null,
   "source": [
    "training_df = data_processing.load_dataframe_from_file(\"../datasets/table_4_3.csv\")\n",
    "\n",
    "# Obtain data in the form of\n",
    "# x_train = np.array([[0,0],[0,1],[1,0],[1,1]],dtype=float)\n",
    "# y_train = np.array([0,1,1,0],dtype=float)\n",
    "\n",
    "# x_train = np.stack(training_df[\"inputs\"].to_numpy())[:, 1:].astype(float) is more efficient but less understandable\n",
    "x_train = np.array([x[1:] for x in training_df[\"inputs\"]], dtype=float)\n",
    "\n",
    "y_train = training_df[\"label\"].to_numpy(dtype=float)\n",
    "print(f\"x_train =\\n {x_train}\")\n",
    "print(f\"y_train = {y_train}\")"
   ],
   "id": "f0dc716dc8f88600"
  },
  {
   "metadata": {},
   "cell_type": "markdown",
   "source": "Il ne reste \"plus qu'à\" entrainer le modèle en stockant ses données évoluant au fur et à mesure des epochs.",
   "id": "6a20fbafd7944693"
  },
  {
   "metadata": {},
   "cell_type": "code",
   "outputs": [],
   "execution_count": null,
   "source": [
    "history = model.fit(x_train, y_train, 0.8, 0.001, 2000)\n",
    "\n",
    "for case in x_train:\n",
    "    answer = model.forward(case)\n",
    "    print(f\"Case: {case}, answer: {answer.round()}\")"
   ],
   "id": "2690f4f8608818e3"
  },
  {
   "metadata": {},
   "cell_type": "markdown",
   "source": [
    "Les résultats sont généralement bons avec ces paramètres, bien qu'il arrive rarement que on ne converge pas assez rapidement pour les 2000 epochs.\n",
    "\n",
    "Peut importe les résultats de la run, les graphiques sont néanmoins intéressants."
   ],
   "id": "fb1623f96bbebdb2"
  },
  {
   "metadata": {},
   "cell_type": "code",
   "outputs": [],
   "execution_count": null,
   "source": [
    "df = history.df\n",
    "\n",
    "plt.figure(figsize=(8, 4))\n",
    "plt.plot(df['epoch'], df['mse'], label='MSE', color='blue')\n",
    "plt.xlabel(\"Epoch\")\n",
    "plt.ylabel(\"MSE\")\n",
    "plt.title(\"Mean Squared Error Over Epochs\")\n",
    "plt.grid(True)\n",
    "plt.tight_layout()\n",
    "plt.show()\n",
    "\n",
    "plt.figure(figsize=(8, 4))\n",
    "plt.plot(df['epoch'], df['accuracy'], label='Accuracy', color='green')\n",
    "plt.xlabel(\"Epoch\")\n",
    "plt.ylabel(\"Accuracy\")\n",
    "plt.title(\"Accuracy Over Epochs\")\n",
    "plt.grid(True)\n",
    "plt.tight_layout()\n",
    "plt.show()"
   ],
   "id": "1e6b27459d195759"
  },
  {
   "metadata": {},
   "cell_type": "markdown",
   "source": [
    "On voit bien une courbe représentant la minimization de l'erreur quadratique moyenne, ainsi que l'augmetation de la précision de la classification.\n",
    "\n",
    "Reste à montrer les droites de décision avec les données."
   ],
   "id": "d8fa8aa79a34f737"
  },
  {
   "metadata": {},
   "cell_type": "code",
   "outputs": [],
   "execution_count": null,
   "source": [
    "plt.figure(figsize=(6, 6))\n",
    "plt.scatter(x_train[:, 0], x_train[:, 1], c=y_train, cmap='bwr', s=100, edgecolors='k')\n",
    "# Create grid for decision boundary\n",
    "x_min, x_max = x_train[:, 0].min() - 0.1, x_train[:, 0].max() + 0.1\n",
    "y_min, y_max = x_train[:, 1].min() - 0.1, x_train[:, 1].max() + 0.1\n",
    "xx, yy = np.meshgrid(np.linspace(x_min, x_max, 100), np.linspace(y_min, y_max, 100))\n",
    "# Predict for each point in the grid\n",
    "Z = np.array([model.forward([x, y]) for x, y in zip(xx.ravel(), yy.ravel())])\n",
    "Z = Z.reshape(xx.shape)\n",
    "# Plot decision boundary\n",
    "plt.contourf(xx, yy, Z, levels=[0, 0.5, 1], cmap='viridis', alpha=0.4)\n",
    "\n",
    "# Labels and grid\n",
    "plt.xlabel(\"X1\")\n",
    "plt.ylabel(\"X2\")\n",
    "plt.title(\"XOR Data with Decision Boundary\")\n",
    "plt.grid(True)\n",
    "plt.show()"
   ],
   "id": "4a2830eb670ced68"
  },
  {
   "metadata": {},
   "cell_type": "markdown",
   "source": [
    "Lors d'une convergeance réussie, on voit bien les deux droites de décision.\n",
    "\n",
    "Il y a deux cas de figures possibles, correspondants à deux minimas équivalents:\n",
    "- Les deux droites ont une pente **positives**, et la classe de (0,0) et (1,1) \"coupe\" la classe de (1,0) et (0,1) en deux\n",
    "- les deux droites ont une pente **négatives**, et la classe de (1,0) et (0,1) \"coupe\" la classe (0,0) et (1,1) en deux\n",
    "\n",
    "## Classification à 2 classes non linéairement séparables\n",
    "\n",
    "On a choisi un modèle avec 10 neurones sur la couche cachée afin de bien délimiter les données, même si théoriquement 3 suffisent pour trianguler le nuage de points.\n",
    "\n",
    "Seul un neurone est nécessaire sur la couche de sortie (un point est dans une classe, ou l'autre => choix binaire)"
   ],
   "id": "b1074b0391040d6d"
  },
  {
   "metadata": {},
   "cell_type": "code",
   "outputs": [],
   "execution_count": null,
   "source": [
    "import numpy as np\n",
    "import matplotlib.pyplot as plt\n",
    "from multilayer.layer import Layer\n",
    "from multilayer.model import Model\n",
    "from utils import data_processing\n",
    "\n",
    "model = Model([\n",
    "    Layer(units=10, activation=\"sigmoid\", input_size=2),\n",
    "    Layer(units=1, activation=\"sigmoid\"),\n",
    "])\n",
    "\n",
    "training_df = data_processing.load_dataframe_from_file(\"../datasets/table_4_12.csv\")\n",
    "x_train = np.array([x[1:] for x in training_df[\"inputs\"]], dtype=float)\n",
    "y_train = training_df[\"label\"].to_numpy(dtype=float)\n",
    " # Je vous épargne l'output, on se limite au 5 premiers ;-)\n",
    "print(f\"x_train =\\n {x_train[0:5]}\")\n",
    "print(f\"y_train = {y_train[0:5]}\")"
   ],
   "id": "b7e928aa4399419f"
  },
  {
   "metadata": {},
   "cell_type": "code",
   "outputs": [],
   "execution_count": null,
   "source": [
    "history = model.fit(x_train, y_train, 0.5, 0.001, 2000)\n",
    "\n",
    "for case in x_train[0:5]:\n",
    "    answer = model.forward(case)\n",
    "    print(f\"Case: {case}, answer: {answer.round()}\")"
   ],
   "id": "9afd9b6b20ea520"
  },
  {
   "metadata": {},
   "cell_type": "code",
   "outputs": [],
   "execution_count": null,
   "source": [
    "df = history.df\n",
    "\n",
    "plt.figure(figsize=(8, 4))\n",
    "plt.plot(df['epoch'], df['mse'], label='MSE', color='blue')\n",
    "plt.xlabel(\"Epoch\")\n",
    "plt.ylabel(\"MSE\")\n",
    "plt.title(\"Mean Squared Error Over Epochs\")\n",
    "plt.grid(True)\n",
    "plt.tight_layout()\n",
    "plt.show()\n",
    "\n",
    "plt.figure(figsize=(8, 4))\n",
    "plt.plot(df['epoch'], df['accuracy'], label='Accuracy', color='green')\n",
    "plt.xlabel(\"Epoch\")\n",
    "plt.ylabel(\"Accuracy\")\n",
    "plt.title(\"Accuracy Over Epochs\")\n",
    "plt.grid(True)\n",
    "plt.tight_layout()\n",
    "plt.show()"
   ],
   "id": "f7a595435810c949"
  },
  {
   "metadata": {},
   "cell_type": "code",
   "outputs": [],
   "execution_count": null,
   "source": [
    "plt.figure(figsize=(8, 8))\n",
    "plt.scatter(x_train[:, 0], x_train[:, 1], c=y_train, cmap='bwr', s=100, edgecolors='k')\n",
    "# Create grid for decision boundary\n",
    "x_min, x_max = x_train[:, 0].min() - 0.1, x_train[:, 0].max() + 0.1\n",
    "y_min, y_max = x_train[:, 1].min() - 0.1, x_train[:, 1].max() + 0.1\n",
    "xx, yy = np.meshgrid(np.linspace(x_min, x_max, 100), np.linspace(y_min, y_max, 100))\n",
    "# Predict for each point in the grid\n",
    "Z = np.array([model.forward([x, y]) for x, y in zip(xx.ravel(), yy.ravel())])\n",
    "Z = Z.reshape(xx.shape)\n",
    "# Plot decision boundary\n",
    "plt.contourf(xx, yy, Z, levels=[0, 0.5, 1], cmap='viridis', alpha=0.4)\n",
    "\n",
    "# Labels and grid\n",
    "plt.xlabel(\"X1\")\n",
    "plt.ylabel(\"X2\")\n",
    "plt.title(\"Classification à 2 classes non linéairement séparables\")\n",
    "plt.grid(True)\n",
    "plt.show()"
   ],
   "id": "7ac990f274c8568d"
  },
  {
   "metadata": {},
   "cell_type": "markdown",
   "source": [
    "## Classification à 3 classes non linéairement séparables\n",
    "Ici, 3 neurones sur la couche de sortie: chacun s'activant pour un point se trouvant dans la classe qu'il représente."
   ],
   "id": "a8b04591d0a6cc46"
  },
  {
   "metadata": {},
   "cell_type": "code",
   "outputs": [],
   "execution_count": null,
   "source": [
    "import numpy as np\n",
    "import matplotlib.pyplot as plt\n",
    "from multilayer.layer import Layer\n",
    "from multilayer.model import Model\n",
    "from utils import data_processing\n",
    "\n",
    "model = Model([\n",
    "    Layer(units=10, activation=\"sigmoid\", input_size=2),\n",
    "    Layer(units=3, activation=\"sigmoid\"),\n",
    "])\n",
    "\n",
    "training_df = data_processing.load_dataframe_from_file(\"../datasets/table_4_14.csv\", 3)\n",
    "x_train = np.array([x[1:] for x in training_df[\"inputs\"]], dtype=float)\n",
    "y_train = np.stack(training_df[\"label\"].to_numpy())\n",
    " # Je vous épargne l'output, on se limite au cinq premiers. ;-)\n",
    "print(f\"x_train =\\n {x_train[0:5]}\")\n",
    "print(f\"y_train =\\n {y_train[0:5]}\")"
   ],
   "id": "e8437d649b587b5"
  },
  {
   "metadata": {},
   "cell_type": "code",
   "outputs": [],
   "execution_count": null,
   "source": [
    "history = model.fit(x_train, y_train, 1.2, 0.001, 2000)\n",
    "\n",
    "for case in x_train[0:5]:\n",
    "    answer = model.forward(case)\n",
    "    print(f\"Case: {case}, answer: {answer.round()}\")"
   ],
   "id": "821cb76bb9f58cc6"
  },
  {
   "metadata": {},
   "cell_type": "code",
   "outputs": [],
   "execution_count": null,
   "source": [
    "df = history.df\n",
    "\n",
    "plt.figure(figsize=(8, 4))\n",
    "plt.plot(df['epoch'], df['mse'], label='MSE', color='blue')\n",
    "plt.xlabel(\"Epoch\")\n",
    "plt.ylabel(\"MSE\")\n",
    "plt.title(\"Mean Squared Error Over Epochs\")\n",
    "plt.grid(True)\n",
    "plt.tight_layout()\n",
    "plt.show()\n",
    "\n",
    "plt.figure(figsize=(8, 4))\n",
    "plt.plot(df['epoch'], df['accuracy'], label='Accuracy', color='green')\n",
    "plt.xlabel(\"Epoch\")\n",
    "plt.ylabel(\"Accuracy\")\n",
    "plt.title(\"Accuracy Over Epochs\")\n",
    "plt.grid(True)\n",
    "plt.tight_layout()\n",
    "plt.show()"
   ],
   "id": "1e5e797205ce35ce"
  },
  {
   "metadata": {},
   "cell_type": "code",
   "outputs": [],
   "execution_count": null,
   "source": [
    "plt.figure(figsize=(8, 8))\n",
    "plt.scatter(x_train[:, 0], x_train[:, 1], c=y_train, cmap='bwr', s=100, edgecolors='k')\n",
    "# Create grid for decision boundary\n",
    "x_min, x_max = x_train[:, 0].min() - 0.1, x_train[:, 0].max() + 0.1\n",
    "y_min, y_max = x_train[:, 1].min() - 0.1, x_train[:, 1].max() + 0.1\n",
    "xx, yy = np.meshgrid(np.linspace(x_min, x_max, 100), np.linspace(y_min, y_max, 100))\n",
    "# Predict for each point in the grid\n",
    "Z = np.array([model.forward([x, y]) for x, y in zip(xx.ravel(), yy.ravel())])\n",
    "Z = Z.reshape(xx.shape)\n",
    "# Plot decision boundary\n",
    "plt.contourf(xx, yy, Z, levels=[0, 0.5, 1], cmap='viridis', alpha=0.4)\n",
    "\n",
    "# Labels and grid\n",
    "plt.xlabel(\"X1\")\n",
    "plt.ylabel(\"X2\")\n",
    "plt.title(\"Classification à 2 classes non linéairement séparables\")\n",
    "plt.grid(True)\n",
    "plt.show()"
   ],
   "id": "6c68d1f7bd0d3d79"
  },
  {
   "metadata": {},
   "cell_type": "markdown",
   "source": "## Régression non-linéaire",
   "id": "47a0ce6dee7a624f"
  },
  {
   "metadata": {},
   "cell_type": "code",
   "outputs": [],
   "execution_count": null,
   "source": "# TODO",
   "id": "1296e6c22eb25d70"
  }
 ],
 "metadata": {
  "kernelspec": {
   "display_name": "Python 3",
   "language": "python",
   "name": "python3"
  },
  "language_info": {
   "codemirror_mode": {
    "name": "ipython",
    "version": 2
   },
   "file_extension": ".py",
   "mimetype": "text/x-python",
   "name": "python",
   "nbconvert_exporter": "python",
   "pygments_lexer": "ipython2",
   "version": "2.7.6"
  }
 },
 "nbformat": 4,
 "nbformat_minor": 5
}

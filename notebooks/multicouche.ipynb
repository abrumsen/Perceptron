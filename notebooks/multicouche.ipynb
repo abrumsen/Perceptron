{
 "cells": [
  {
   "metadata": {},
   "cell_type": "markdown",
   "source": [
    "# Validations pour le multicouche\n",
    "## Porte logique XOR - table 4.3\n",
    "Commençons par construire le modèle: un modèle 2-2-1 suffit. Intuitivement, on peut se dire que chaque neurone de la couche cachée va apprendre une demi-séparation: \"x1 OR x2\" et \"x1 AND NOT x2\". Le neurone de la couche de sortie combinera ces activations pour donner le XOR."
   ],
   "id": "aac0b1da98ed5701"
  },
  {
   "metadata": {},
   "cell_type": "code",
   "source": [
    "import numpy as np\n",
    "import matplotlib.pyplot as plt\n",
    "from multilayer.layer import Layer\n",
    "from multilayer.model import Model\n",
    "from utils import data_processing\n",
    "\n",
    "model = Model([\n",
    "    Layer(units=2, activation=\"sigmoid\", input_size=2),\n",
    "    Layer(units=1, activation=\"sigmoid\"),\n",
    "])"
   ],
   "id": "7329d1e24d81cf68",
   "outputs": [],
   "execution_count": null
  },
  {
   "metadata": {},
   "cell_type": "markdown",
   "source": "On importe le dataset du XOR depuis un fichier *.csv:",
   "id": "4e9c526bd28d33af"
  },
  {
   "metadata": {},
   "cell_type": "code",
   "source": [
    "training_df = data_processing.load_dataframe_from_file(\"../datasets/table_4_3.csv\")\n",
    "\n",
    "# Obtain data in the form of\n",
    "# x_train = np.array([[0,0],[0,1],[1,0],[1,1]],dtype=float)\n",
    "# y_train = np.array([0,1,1,0],dtype=float)\n",
    "\n",
    "# x_train = np.stack(training_df[\"inputs\"].to_numpy())[:, 1:].astype(float) is more efficient but less understandable\n",
    "x_train = np.array([x[1:] for x in training_df[\"inputs\"]], dtype=float)\n",
    "\n",
    "y_train = training_df[\"label\"].to_numpy(dtype=float)\n",
    "print(f\"x_train =\\n {x_train}\")\n",
    "print(f\"y_train = {y_train}\")"
   ],
   "id": "f0dc716dc8f88600",
   "outputs": [],
   "execution_count": null
  },
  {
   "metadata": {},
   "cell_type": "markdown",
   "source": "Il ne reste \"plus qu'à\" entrainer le modèle en stockant ses données évoluant au fur et à mesure des epochs.",
   "id": "6a20fbafd7944693"
  },
  {
   "metadata": {},
   "cell_type": "code",
   "source": [
    "history = model.fit(x_train, y_train, 0.01, 0.001, 4000, \"stochastic\")\n",
    "\n",
    "for case in x_train:\n",
    "    answer = model.forward(case)\n",
    "    print(f\"Case: {case}, answer: {answer.round()}\")"
   ],
   "id": "2690f4f8608818e3",
   "outputs": [],
   "execution_count": null
  },
  {
   "metadata": {},
   "cell_type": "markdown",
   "source": [
    "Les résultats sont généralement bons avec ces paramètres, bien qu'il arrive rarement que on ne converge pas assez rapidement pour les 2000 epochs.\n",
    "\n",
    "Peut importe les résultats de la run, les graphiques sont néanmoins intéressants."
   ],
   "id": "fb1623f96bbebdb2"
  },
  {
   "metadata": {},
   "cell_type": "code",
   "source": [
    "df = history.df\n",
    "\n",
    "plt.figure(figsize=(8, 4))\n",
    "plt.plot(df['epoch'], df['mse'], label='MSE', color='blue')\n",
    "plt.xlabel(\"Epoch\")\n",
    "plt.ylabel(\"MSE\")\n",
    "plt.title(\"Mean Squared Error Over Epochs\")\n",
    "plt.grid(True)\n",
    "plt.tight_layout()\n",
    "plt.show()\n",
    "\n",
    "plt.figure(figsize=(8, 4))\n",
    "plt.plot(df['epoch'], df['accuracy'], label='Accuracy', color='green')\n",
    "plt.xlabel(\"Epoch\")\n",
    "plt.ylabel(\"Accuracy\")\n",
    "plt.title(\"Accuracy Over Epochs\")\n",
    "plt.grid(True)\n",
    "plt.tight_layout()\n",
    "plt.show()"
   ],
   "id": "1e6b27459d195759",
   "outputs": [],
   "execution_count": null
  },
  {
   "metadata": {},
   "cell_type": "markdown",
   "source": [
    "On voit bien une courbe représentant la minimization de l'erreur quadratique moyenne, ainsi que l'augmetation de la précision de la classification.\n",
    "\n",
    "Reste à montrer les droites de décision avec les données."
   ],
   "id": "d8fa8aa79a34f737"
  },
  {
   "metadata": {},
   "cell_type": "code",
   "source": [
    "plt.figure(figsize=(6, 6))\n",
    "plt.scatter(x_train[:, 0], x_train[:, 1], c=y_train, cmap='bwr', s=100, edgecolors='k')\n",
    "# Create grid for decision boundary\n",
    "x_min, x_max = x_train[:, 0].min() - 0.1, x_train[:, 0].max() + 0.1\n",
    "y_min, y_max = x_train[:, 1].min() - 0.1, x_train[:, 1].max() + 0.1\n",
    "xx, yy = np.meshgrid(np.linspace(x_min, x_max, 100), np.linspace(y_min, y_max, 100))\n",
    "# Predict for each point in the grid\n",
    "Z = np.array([model.forward([x, y]) for x, y in zip(xx.ravel(), yy.ravel())])\n",
    "Z = Z.reshape(xx.shape)\n",
    "# Plot decision boundary\n",
    "plt.contourf(xx, yy, Z, levels=[0, 0.5, 1], cmap='viridis', alpha=0.4)\n",
    "\n",
    "# Labels and grid\n",
    "plt.xlabel(\"X1\")\n",
    "plt.ylabel(\"X2\")\n",
    "plt.title(\"XOR Data with Decision Boundary\")\n",
    "plt.grid(True)\n",
    "plt.show()"
   ],
   "id": "4a2830eb670ced68",
   "outputs": [],
   "execution_count": null
  },
  {
   "metadata": {},
   "cell_type": "markdown",
   "source": [
    "Lors d'une convergeance réussie, on voit bien les deux droites de décision.\n",
    "\n",
    "Il y a deux cas de figures possibles, correspondants à deux minimas équivalents:\n",
    "- Les deux droites ont une pente **positives**, et la classe de (0,0) et (1,1) \"coupe\" la classe de (1,0) et (0,1) en deux\n",
    "- les deux droites ont une pente **négatives**, et la classe de (1,0) et (0,1) \"coupe\" la classe (0,0) et (1,1) en deux\n",
    "\n",
    "## Classification à 2 classes non linéairement séparables - table 4.12\n",
    "\n",
    "On a choisi un modèle avec 10 neurones sur la couche cachée afin de bien délimiter les données, même si théoriquement 3 suffisent pour trianguler le nuage de points.\n",
    "\n",
    "Seul un neurone est nécessaire sur la couche de sortie (un point est dans une classe, ou l'autre => choix binaire)"
   ],
   "id": "b1074b0391040d6d"
  },
  {
   "metadata": {},
   "cell_type": "code",
   "source": [
    "import numpy as np\n",
    "import matplotlib.pyplot as plt\n",
    "from multilayer.layer import Layer\n",
    "from multilayer.model import Model\n",
    "from utils import data_processing\n",
    "\n",
    "model = Model([\n",
    "    Layer(units=10, activation=\"sigmoid\", input_size=2),\n",
    "    Layer(units=1, activation=\"sigmoid\"),\n",
    "])\n",
    "\n",
    "training_df = data_processing.load_dataframe_from_file(\"../datasets/table_4_12.csv\")\n",
    "x_train = np.array([x[1:] for x in training_df[\"inputs\"]], dtype=float)\n",
    "y_train = training_df[\"label\"].to_numpy(dtype=float)\n",
    " # Je vous épargne l'output, on se limite au 5 premiers ;-)\n",
    "print(f\"x_train =\\n {x_train[0:5]}\")\n",
    "print(f\"y_train = {y_train[0:5]}\")"
   ],
   "id": "b7e928aa4399419f",
   "outputs": [],
   "execution_count": null
  },
  {
   "metadata": {},
   "cell_type": "code",
   "source": [
    "history = model.fit(x_train, y_train, 0.5, 0.001, 2000, \"stochastic\")\n",
    "\n",
    "indices = np.random.choice(len(x_train), size=5, replace=False)\n",
    "\n",
    "for i in indices:\n",
    "    case = x_train[i]\n",
    "    target = y_train[i]\n",
    "    answer = model.forward(case)\n",
    "    print(f\"Answer: {answer.round().item()}, Target: {target}\")"
   ],
   "id": "9afd9b6b20ea520",
   "outputs": [],
   "execution_count": null
  },
  {
   "metadata": {},
   "cell_type": "code",
   "source": [
    "df = history.df\n",
    "\n",
    "plt.figure(figsize=(8, 4))\n",
    "plt.plot(df['epoch'], df['mse'], label='MSE', color='blue')\n",
    "plt.xlabel(\"Epoch\")\n",
    "plt.ylabel(\"MSE\")\n",
    "plt.title(\"Mean Squared Error Over Epochs\")\n",
    "plt.grid(True)\n",
    "plt.tight_layout()\n",
    "plt.show()\n",
    "\n",
    "plt.figure(figsize=(8, 4))\n",
    "plt.plot(df['epoch'], df['accuracy'], label='Accuracy', color='green')\n",
    "plt.xlabel(\"Epoch\")\n",
    "plt.ylabel(\"Accuracy\")\n",
    "plt.title(\"Accuracy Over Epochs\")\n",
    "plt.grid(True)\n",
    "plt.tight_layout()\n",
    "plt.show()"
   ],
   "id": "f7a595435810c949",
   "outputs": [],
   "execution_count": null
  },
  {
   "metadata": {},
   "cell_type": "code",
   "source": [
    "plt.figure(figsize=(8, 8))\n",
    "plt.scatter(x_train[:, 0], x_train[:, 1], c=y_train, cmap='bwr', s=100, edgecolors='k')\n",
    "# Create grid for decision boundary\n",
    "x_min, x_max = x_train[:, 0].min() - 0.1, x_train[:, 0].max() + 0.1\n",
    "y_min, y_max = x_train[:, 1].min() - 0.1, x_train[:, 1].max() + 0.1\n",
    "xx, yy = np.meshgrid(np.linspace(x_min, x_max, 100), np.linspace(y_min, y_max, 100))\n",
    "# Predict for each point in the grid\n",
    "Z = np.array([model.forward([x, y]) for x, y in zip(xx.ravel(), yy.ravel())])\n",
    "Z = Z.reshape(xx.shape)\n",
    "# Plot decision boundary\n",
    "plt.contourf(xx, yy, Z, levels=[0, 0.5, 1], cmap='viridis', alpha=0.4)\n",
    "\n",
    "# Labels and grid\n",
    "plt.xlabel(\"X1\")\n",
    "plt.ylabel(\"X2\")\n",
    "plt.title(\"Classification à 2 classes non linéairement séparables\")\n",
    "plt.grid(True)\n",
    "plt.show()"
   ],
   "id": "7ac990f274c8568d",
   "outputs": [],
   "execution_count": null
  },
  {
   "metadata": {},
   "cell_type": "markdown",
   "source": [
    "## Classification à 3 classes non linéairement séparables - table 4.14\n",
    "Ici, 3 neurones sur la couche de sortie: chacun s'activant pour un point se trouvant dans la classe qu'il représente."
   ],
   "id": "a8b04591d0a6cc46"
  },
  {
   "metadata": {
    "ExecuteTime": {
     "end_time": "2025-05-07T15:43:56.850851Z",
     "start_time": "2025-05-07T15:43:56.821727Z"
    }
   },
   "cell_type": "code",
   "source": [
    "import numpy as np\n",
    "import matplotlib.pyplot as plt\n",
    "from multilayer.layer import Layer\n",
    "from multilayer.model import Model\n",
    "from utils import data_processing\n",
    "\n",
    "model = Model([\n",
    "    Layer(units=10, activation=\"sigmoid\", input_size=2),\n",
    "    Layer(units=3, activation=\"sigmoid\"),\n",
    "])\n",
    "\n",
    "training_df = data_processing.load_dataframe_from_file(\"../datasets/table_4_14.csv\", 3)\n",
    "x_train = np.array([x[1:] for x in training_df[\"inputs\"]], dtype=float)\n",
    "y_train = np.stack(training_df[\"label\"].to_numpy())\n",
    "# Je vous épargne l'output, on se limite au cinq premiers. ;-)\n",
    "print(f\"x_train =\\n {x_train[0:5]}\")\n",
    "print(f\"y_train =\\n {y_train[0:5]}\")"
   ],
   "id": "e8437d649b587b5",
   "outputs": [
    {
     "name": "stdout",
     "output_type": "stream",
     "text": [
      "x_train =\n",
      " [[-0.87  0.7 ]\n",
      " [-0.62 -0.78]\n",
      " [ 0.73  1.09]\n",
      " [ 0.32 -0.2 ]\n",
      " [ 0.18 -1.07]]\n",
      "y_train =\n",
      " [[0. 0. 1.]\n",
      " [1. 0. 0.]\n",
      " [0. 0. 1.]\n",
      " [1. 0. 0.]\n",
      " [1. 0. 0.]]\n"
     ]
    }
   ],
   "execution_count": 5
  },
  {
   "metadata": {
    "ExecuteTime": {
     "end_time": "2025-05-07T15:44:06.368680Z",
     "start_time": "2025-05-07T15:44:02.990388Z"
    }
   },
   "cell_type": "code",
   "source": [
    "history = model.fit(x_train, y_train, 1.2, 0.001, 2000, \"full-batch\")\n",
    "\n",
    "indices = np.random.choice(len(x_train), size=5, replace=False)\n",
    "\n",
    "for i in indices:\n",
    "    case = x_train[i]\n",
    "    target = y_train[i]\n",
    "    answer = model.forward(case)\n",
    "    print(f\"Answer: {answer.round()}, Target: {target}\")"
   ],
   "id": "821cb76bb9f58cc6",
   "outputs": [
    {
     "name": "stdout",
     "output_type": "stream",
     "text": [
      "Training using full-batch strategy.\n",
      "Training complete after 62 epochs.\n",
      "Answer: [0. 0. 1.], Target: [0. 0. 1.]\n",
      "Answer: [0. 0. 1.], Target: [0. 0. 1.]\n",
      "Answer: [0. 1. 0.], Target: [0. 1. 0.]\n",
      "Answer: [0. 0. 1.], Target: [0. 0. 1.]\n",
      "Answer: [0. 0. 1.], Target: [0. 0. 1.]\n"
     ]
    }
   ],
   "execution_count": 6
  },
  {
   "metadata": {},
   "cell_type": "code",
   "source": [
    "df = history.df\n",
    "\n",
    "plt.figure(figsize=(8, 4))\n",
    "plt.plot(df['epoch'], df['mse'], label='MSE', color='blue')\n",
    "plt.xlabel(\"Epoch\")\n",
    "plt.ylabel(\"MSE\")\n",
    "plt.title(\"Mean Squared Error Over Epochs\")\n",
    "plt.grid(True)\n",
    "plt.tight_layout()\n",
    "plt.show()\n",
    "\n",
    "plt.figure(figsize=(8, 4))\n",
    "plt.plot(df['epoch'], df['accuracy'], label='Accuracy', color='green')\n",
    "plt.xlabel(\"Epoch\")\n",
    "plt.ylabel(\"Accuracy\")\n",
    "plt.title(\"Accuracy Over Epochs\")\n",
    "plt.grid(True)\n",
    "plt.tight_layout()\n",
    "plt.show()"
   ],
   "id": "1e5e797205ce35ce",
   "outputs": [],
   "execution_count": null
  },
  {
   "metadata": {},
   "cell_type": "code",
   "source": [
    "plt.figure(figsize=(8, 8))\n",
    "\n",
    "plt.scatter(x_train[:, 0], x_train[:, 1], c=y_train, s=100, edgecolors='k')\n",
    "\n",
    "# Create grid for decision boundary\n",
    "x_min, x_max = x_train[:, 0].min() - 0.1, x_train[:, 0].max() + 0.1\n",
    "y_min, y_max = x_train[:, 1].min() - 0.1, x_train[:, 1].max() + 0.1\n",
    "xx, yy = np.meshgrid(np.linspace(x_min, x_max, 200),\n",
    "                     np.linspace(y_min, y_max, 200))\n",
    "\n",
    "# Predict for each point in the grid\n",
    "grid_points = np.c_[xx.ravel(), yy.ravel()]\n",
    "Z = np.array([np.argmax(model.forward(point)) for point in grid_points])\n",
    "Z = Z.reshape(xx.shape)\n",
    "\n",
    "# Plot decision regions\n",
    "plt.contourf(xx, yy, Z, levels=np.arange(4)-0.5, cmap='tab10', alpha=0.3)\n",
    "\n",
    "# Labels and grid\n",
    "plt.xlabel(\"X1\")\n",
    "plt.ylabel(\"X2\")\n",
    "plt.title(\"Classification à 3 classes non linéairement séparables\")\n",
    "plt.grid(True)\n",
    "plt.show()"
   ],
   "id": "6c68d1f7bd0d3d79",
   "outputs": [],
   "execution_count": null
  },
  {
   "metadata": {},
   "cell_type": "markdown",
   "source": "## Régression non-linéaire - table 4.17",
   "id": "47a0ce6dee7a624f"
  },
  {
   "metadata": {
    "ExecuteTime": {
     "end_time": "2025-05-07T15:47:47.790486Z",
     "start_time": "2025-05-07T15:47:47.769150Z"
    }
   },
   "cell_type": "code",
   "source": [
    "import numpy as np\n",
    "import matplotlib.pyplot as plt\n",
    "from multilayer.layer import Layer\n",
    "from multilayer.model import Model\n",
    "from utils import data_processing\n",
    "\n",
    "model = Model([\n",
    "    Layer(units=3, activation=\"tanh\", input_size=1),\n",
    "    Layer(units=1, activation=\"identity\"),\n",
    "])\n",
    "\n",
    "training_df = data_processing.load_dataframe_from_file(\"../datasets/table_4_17.csv\")\n",
    "x_train = np.array([x[1:] for x in training_df[\"inputs\"]], dtype=float)\n",
    "y_train = training_df[\"label\"].to_numpy(dtype=float)\n",
    " # Je vous épargne l'output, on se limite au cinq premiers. ;-)\n",
    "print(f\"x_train =\\n {x_train[0:5]}\")\n",
    "print(f\"y_train = {y_train[0:5]}\")"
   ],
   "id": "1296e6c22eb25d70",
   "outputs": [
    {
     "name": "stdout",
     "output_type": "stream",
     "text": [
      "x_train =\n",
      " [[-0.4 ]\n",
      " [ 1.7 ]\n",
      " [ 0.53]\n",
      " [-1.9 ]\n",
      " [ 0.53]]\n",
      "y_train = [-1.32 -0.04 -0.07  1.09  0.12]\n"
     ]
    }
   ],
   "execution_count": 7
  },
  {
   "metadata": {
    "ExecuteTime": {
     "end_time": "2025-05-07T15:50:31.763127Z",
     "start_time": "2025-05-07T15:47:50.136431Z"
    }
   },
   "cell_type": "code",
   "source": [
    "history = model.fit(x_train, y_train, 0.001, 0.04, 10000, \"full-batch\", verbose=True)\n",
    "\n",
    "for case in x_train[0:5]:\n",
    "    answer = model.forward(case)\n",
    "    print(f\"Case: {case}, answer: {answer}\")"
   ],
   "id": "3058172882a36d0f",
   "outputs": [
    {
     "name": "stdout",
     "output_type": "stream",
     "text": [
      "Training using full-batch strategy.\n",
      "Epoch :1, MSE: 1.2796\n",
      "Epoch :1001, MSE: 0.0515\n",
      "Epoch :2001, MSE: 0.0490\n",
      "Epoch :3001, MSE: 0.0487\n",
      "Epoch :4001, MSE: 0.0486\n",
      "Epoch :5001, MSE: 0.0485\n",
      "Epoch :6001, MSE: 0.0485\n",
      "Epoch :7001, MSE: 0.0484\n",
      "Epoch :8001, MSE: 0.0484\n",
      "Epoch :9001, MSE: 0.0484\n",
      "Training stopped after 10000 epochs.\n",
      "Case: [-0.4], answer: [-1.12697069]\n",
      "Case: [1.7], answer: [0.17937224]\n",
      "Case: [0.53], answer: [0.03239349]\n",
      "Case: [-1.9], answer: [1.30734346]\n",
      "Case: [0.53], answer: [0.03239349]\n"
     ]
    }
   ],
   "execution_count": 8
  },
  {
   "metadata": {
    "ExecuteTime": {
     "end_time": "2025-05-07T15:50:51.911366Z",
     "start_time": "2025-05-07T15:50:51.263158Z"
    }
   },
   "cell_type": "code",
   "source": [
    "df = history.df\n",
    "\n",
    "plt.figure(figsize=(8, 4))\n",
    "plt.plot(df['epoch'], df['mse'], label='MSE', color='blue')\n",
    "plt.xlabel(\"Epoch\")\n",
    "plt.ylabel(\"MSE\")\n",
    "plt.title(\"Mean Squared Error Over Epochs\")\n",
    "plt.grid(True)\n",
    "plt.tight_layout()\n",
    "plt.show()"
   ],
   "id": "fb82f274cb26a045",
   "outputs": [
    {
     "data": {
      "text/plain": [
       "<Figure size 800x400 with 1 Axes>"
      ],
      "image/png": "[encoded data removed]"
     },
     "metadata": {},
     "output_type": "display_data"
    }
   ],
   "execution_count": 9
  },
  {
   "metadata": {
    "ExecuteTime": {
     "end_time": "2025-05-07T15:50:59.035089Z",
     "start_time": "2025-05-07T15:50:58.463398Z"
    }
   },
   "cell_type": "code",
   "source": [
    "# Create test input range\n",
    "x = np.linspace(x_train.min(), x_train.max(), 200).reshape(-1, 1)\n",
    "y_pred = np.array([model.forward(x) for x in x])\n",
    "\n",
    "# Ground truth (if available)\n",
    "# y_true = some_function(x_test)  # optional, if you know the true function\n",
    "\n",
    "# Plot\n",
    "plt.figure(figsize=(8, 5))\n",
    "plt.scatter(x_train, y_train, color='blue', label='Training data')\n",
    "plt.plot(x, y_pred, color='red', label='Model prediction')\n",
    "#plt.plot(x, y_true, color='green', label='True function')\n",
    "plt.xlabel('X')\n",
    "plt.ylabel('Y')\n",
    "plt.title('Multilayer Neural Network Regression')\n",
    "plt.legend()\n",
    "plt.grid(True)\n",
    "plt.show()\n"
   ],
   "id": "12bd7df6602a9654",
   "outputs": [
    {
     "data": {
      "text/plain": [
       "<Figure size 800x500 with 1 Axes>"
      ],
      "image/png": "[encoded data removed]"
     },
     "metadata": {},
     "output_type": "display_data"
    }
   ],
   "execution_count": 10
  }
 ],
 "metadata": {
  "kernelspec": {
   "display_name": "Python 3",
   "language": "python",
   "name": "python3"
  },
  "language_info": {
   "codemirror_mode": {
    "name": "ipython",
    "version": 2
   },
   "file_extension": ".py",
   "mimetype": "text/x-python",
   "name": "python",
   "nbconvert_exporter": "python",
   "pygments_lexer": "ipython2",
   "version": "2.7.6"
  }
 },
 "nbformat": 4,
 "nbformat_minor": 5
}

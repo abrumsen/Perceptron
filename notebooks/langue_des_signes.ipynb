{
 "cells": [
  {
   "metadata": {},
   "cell_type": "markdown",
   "source": "# Exercice : Langage des signes",
   "id": "26a5bc2478a60cca"
  },
  {
   "metadata": {},
   "cell_type": "markdown",
   "source": "## Création du learning et validation dataset",
   "id": "c4a3efa37864cf9b"
  },
  {
   "cell_type": "code",
   "id": "initial_id",
   "metadata": {
    "collapsed": true,
    "ExecuteTime": {
     "end_time": "2025-05-06T21:25:14.146124Z",
     "start_time": "2025-05-06T21:25:13.887336Z"
    }
   },
   "source": [
    "import numpy as np\n",
    "import pandas as pd\n",
    "from utils.data_processing import load_dataframe_from_file, store_data\n",
    "\n",
    "def flatten_row(row):\n",
    "    input_flat = row['inputs'].flatten().tolist()\n",
    "    label_flat = row['label'].tolist()\n",
    "    return input_flat + label_flat\n",
    "\n",
    "# DataFrame de base\n",
    "df = load_dataframe_from_file('../datasets/LangageDesSignes/data_formatted.csv', 5)\n",
    "\n",
    "# Creation du learning dataset\n",
    "df['class'] = df['label'].apply(lambda x: int(np.argmax(x)))\n",
    "\n",
    "df_learning = (\n",
    "    df.groupby('class')\n",
    "      .apply(lambda x: x.sample(n=50, random_state=42))\n",
    "      .reset_index(drop=True)\n",
    ")\n",
    "\n",
    "df_learning = df_learning.drop(columns=['class'])\n",
    "df_learning['inputs'] = df_learning['inputs'].apply(lambda x: x[1:] if isinstance(x, np.ndarray) else x)\n",
    "print(df_learning)\n",
    "\n",
    "df_learning_good = pd.DataFrame(df_learning.apply(flatten_row, axis=1).tolist())\n",
    "df_learning_good.to_csv('../datasets/LangageDesSignes/learning_dataset.csv', index=False, sep=\",\", header=False)\n",
    "\n",
    "\n",
    "# Creation du validation dataset sans la colonne label\n",
    "df['class'] = df['label'].apply(lambda x: int(np.argmax(x)))\n",
    "\n",
    "selected_indices = df.groupby('class').apply(lambda x: x.sample(n=50, random_state=42)).index.get_level_values(1)\n",
    "\n",
    "df_remaining = df.drop(index=selected_indices)\n",
    "\n",
    "df_validation = df_remaining[['inputs']].reset_index(drop=True)\n",
    "df_validation['inputs'] = df_validation['inputs'].apply(lambda x: x[1:] if isinstance(x, np.ndarray) else x)\n",
    "print(df_validation)\n",
    "\n",
    "df_validation_good = pd.DataFrame(df_validation['inputs'].apply(lambda x: x.flatten().tolist()).tolist())\n",
    "df_validation_good.to_csv('../datasets/LangageDesSignes/validation_dataset.csv', index=False, sep=\",\", header=False)\n",
    "\n",
    "# test_learn = load_dataframe_from_file(\"../datasets/LangageDesSignes/learning_dataset.csv\",5)\n",
    "# test_valid = load_dataframe_from_file(\"../datasets/LangageDesSignes/validation_dataset.csv\",0)\n",
    "# print(test_learn)\n",
    "# print(test_valid)"
   ],
   "outputs": [
    {
     "name": "stdout",
     "output_type": "stream",
     "text": [
      "                                               inputs\n",
      "0   [1.0, 0.0, 0.0, -0.296, 0.1203703703703703, -0...\n",
      "1   [1.0, 0.0, 0.0, -0.2824074074074074, 0.1172839...\n",
      "2   [1.0, 0.0, 0.0, -0.336734693877551, 0.13580246...\n",
      "3   [1.0, 0.0, 0.0, -0.3271889400921659, 0.1085714...\n",
      "4   [1.0, 0.0, 0.0, -0.3302752293577982, 0.1695906...\n",
      "5   [1.0, 0.0, 0.0, -0.2785388127853881, 0.1121951...\n",
      "6   [1.0, 0.0, 0.0, -0.3, 0.0914634146341463, -0.5...\n",
      "7   [1.0, 0.0, 0.0, -0.3050314465408805, 0.0876494...\n",
      "8   [1.0, 0.0, 0.0, -0.3121693121693121, 0.15, -0....\n",
      "9   [1.0, 0.0, 0.0, -0.300395256916996, 0.04975124...\n",
      "10  [1.0, 0.0, 0.0, -0.5233644859813084, 0.0646153...\n",
      "11  [1.0, 0.0, 0.0, -0.6417910447761194, 0.0899653...\n",
      "12  [1.0, 0.0, 0.0, -0.4554455445544554, 0.0449438...\n",
      "13  [1.0, 0.0, 0.0, -0.5454545454545454, 0.0629370...\n",
      "14  [1.0, 0.0, 0.0, -0.6440677966101694, 0.0916334...\n",
      "15  [1.0, 0.0, 0.0, -0.6538461538461539, 0.125, -1...\n",
      "16  [1.0, 0.0, 0.0, -0.6379310344827587, 0.0912698...\n",
      "17  [1.0, 0.0, 0.0, -0.6307692307692307, 0.0965250...\n",
      "18  [1.0, 0.0, 0.0, -0.576271186440678, 0.07142857...\n",
      "19  [1.0, 0.0, 0.0, -0.5454545454545454, 0.1340782...\n",
      "20  [1.0, 0.0, 0.0, -0.3700440528634361, 0.1291666...\n",
      "21  [1.0, 0.0, 0.0, -0.3653846153846153, 0.0666666...\n",
      "22  [1.0, 0.0, 0.0, -0.2883435582822086, 0.0894736...\n",
      "23  [1.0, 0.0, 0.0, -0.2840236686390532, 0.0473684...\n",
      "24  [1.0, 0.0, 0.0, -0.345679012345679, 0.03125, -...\n",
      "25  [1.0, 0.0, 0.0, -0.3287671232876712, 0.1020408...\n",
      "26  [1.0, 0.0, 0.0, -0.3223684210526316, 0.0909090...\n",
      "27  [1.0, 0.0, 0.0, -0.3773584905660377, 0.0591133...\n",
      "28  [1.0, 0.0, 0.0, -0.3357664233576642, 0.0362318...\n",
      "29  [1.0, 0.0, 0.0, -0.3225806451612903, 0.0993788...\n",
      "30  [1.0, 0.0, 0.0, -0.3768115942028985, 0.0588235...\n",
      "31  [1.0, 0.0, 0.0, -0.3529411764705882, 0.0395480...\n",
      "32  [1.0, 0.0, 0.0, -0.364963503649635, 0.05319148...\n",
      "33  [1.0, 0.0, 0.0, -0.3501683501683502, 0.0793269...\n",
      "34  [1.0, 0.0, 0.0, -0.3321917808219178, 0.0882352...\n",
      "35  [1.0, 0.0, 0.0, -0.3424657534246575, 0.0790816...\n",
      "36  [1.0, 0.0, 0.0, -0.336283185840708, 0.07111111...\n",
      "37  [1.0, 0.0, 0.0, -0.3374233128834356, 0.0833333...\n",
      "38  [1.0, 0.0, 0.0, -0.3376623376623376, 0.08, -0....\n",
      "39  [1.0, 0.0, 0.0, -0.2424242424242424, 0.0575916...\n",
      "40  [1.0, 0.0, 0.0, -0.5121951219512195, 0.0, -0.9...\n",
      "41  [1.0, 0.0, 0.0, -0.3737373737373737, -0.079136...\n",
      "42  [1.0, 0.0, 0.0, -0.4166666666666667, -0.054054...\n",
      "43  [1.0, 0.0, 0.0, -0.42, -0.0694444444444444, -0...\n",
      "44  [1.0, 0.0, 0.0, -0.3858695652173913, -0.034615...\n",
      "45  [1.0, 0.0, 0.0, -0.4327485380116959, -0.024475...\n",
      "46  [1.0, 0.0, 0.0, -0.4489795918367347, 0.0113636...\n",
      "47  [1.0, 0.0, 0.0, -0.45, -0.0171428571428571, -0...\n",
      "48  [1.0, 0.0, 0.0, -0.5818181818181818, 0.0775193...\n",
      "49  [1.0, 0.0, 0.0, -0.4155844155844156, -0.007874...\n"
     ]
    },
    {
     "name": "stderr",
     "output_type": "stream",
     "text": [
      "C:\\Users\\Axel\\AppData\\Local\\Temp\\ipykernel_23640\\102884436.py:18: DeprecationWarning: DataFrameGroupBy.apply operated on the grouping columns. This behavior is deprecated, and in a future version of pandas the grouping columns will be excluded from the operation. Either pass `include_groups=False` to exclude the groupings or explicitly select the grouping columns after groupby to silence this warning.\n",
      "  .apply(lambda x: x.sample(n=50, random_state=42))\n",
      "C:\\Users\\Axel\\AppData\\Local\\Temp\\ipykernel_23640\\102884436.py:34: DeprecationWarning: DataFrameGroupBy.apply operated on the grouping columns. This behavior is deprecated, and in a future version of pandas the grouping columns will be excluded from the operation. Either pass `include_groups=False` to exclude the groupings or explicitly select the grouping columns after groupby to silence this warning.\n",
      "  selected_indices = df.groupby('class').apply(lambda x: x.sample(n=50, random_state=42)).index.get_level_values(1)\n"
     ]
    }
   ],
   "execution_count": 1
  },
  {
   "metadata": {},
   "cell_type": "markdown",
   "source": "## Apprentissage du réseau",
   "id": "18a2bea75a20095a"
  },
  {
   "metadata": {
    "ExecuteTime": {
     "end_time": "2025-05-06T22:00:27.456062Z",
     "start_time": "2025-05-06T22:00:27.399074Z"
    }
   },
   "cell_type": "code",
   "source": [
    "import numpy as np\n",
    "from multilayer.layer import Layer\n",
    "from multilayer.model import Model\n",
    "from utils.data_processing import load_dataframe_from_file\n",
    "\n",
    "model = Model([\n",
    "    Layer(units=10, activation=\"sigmoid\", input_size=42),\n",
    "    Layer(units=5, activation=\"sigmoid\"),\n",
    "])\n",
    "\n",
    "training_df = load_dataframe_from_file(\"../datasets/LangageDesSignes/learning_dataset.csv\", 5)\n",
    "x_train = np.array([x[1:] for x in training_df[\"inputs\"]], dtype=float)\n",
    "y_train = np.stack(training_df[\"label\"].values)\n",
    "\n",
    "history = model.fit(x_train, y_train, 0.5, 0.001, 2000)"
   ],
   "id": "dd416947642f8f89",
   "outputs": [
    {
     "ename": "ValueError",
     "evalue": "operands could not be broadcast together with shapes (1250,) (250,5) ",
     "output_type": "error",
     "traceback": [
      "\u001B[31m---------------------------------------------------------------------------\u001B[39m",
      "\u001B[31mValueError\u001B[39m                                Traceback (most recent call last)",
      "\u001B[36mCell\u001B[39m\u001B[36m \u001B[39m\u001B[32mIn[12]\u001B[39m\u001B[32m, line 15\u001B[39m\n\u001B[32m     12\u001B[39m x_train = np.array([x[\u001B[32m1\u001B[39m:] \u001B[38;5;28;01mfor\u001B[39;00m x \u001B[38;5;129;01min\u001B[39;00m training_df[\u001B[33m\"\u001B[39m\u001B[33minputs\u001B[39m\u001B[33m\"\u001B[39m]], dtype=\u001B[38;5;28mfloat\u001B[39m)\n\u001B[32m     13\u001B[39m y_train = np.stack(training_df[\u001B[33m\"\u001B[39m\u001B[33mlabel\u001B[39m\u001B[33m\"\u001B[39m].values)\n\u001B[32m---> \u001B[39m\u001B[32m15\u001B[39m history = \u001B[43mmodel\u001B[49m\u001B[43m.\u001B[49m\u001B[43mfit\u001B[49m\u001B[43m(\u001B[49m\u001B[43mx_train\u001B[49m\u001B[43m,\u001B[49m\u001B[43m \u001B[49m\u001B[43my_train\u001B[49m\u001B[43m,\u001B[49m\u001B[43m \u001B[49m\u001B[32;43m0.5\u001B[39;49m\u001B[43m,\u001B[49m\u001B[43m \u001B[49m\u001B[32;43m0.001\u001B[39;49m\u001B[43m,\u001B[49m\u001B[43m \u001B[49m\u001B[32;43m2000\u001B[39;49m\u001B[43m)\u001B[49m\n",
      "\u001B[36mFile \u001B[39m\u001B[32m~\\Desktop\\RNA\\multilayer\\model.py:92\u001B[39m, in \u001B[36mModel.fit\u001B[39m\u001B[34m(self, x_train, y_train, learning_rate, threshold, epochs, verbose)\u001B[39m\n\u001B[32m     90\u001B[39m mse = np.mean(\u001B[32m0.5\u001B[39m * errors ** \u001B[32m2\u001B[39m)\n\u001B[32m     91\u001B[39m predictions_rounded = predictions.round()\n\u001B[32m---> \u001B[39m\u001B[32m92\u001B[39m history.log(epoch=epoch, mse=mse, accuracy=np.mean(\u001B[43mpredictions\u001B[49m\u001B[43m \u001B[49m\u001B[43m==\u001B[49m\u001B[43m \u001B[49m\u001B[43my_train\u001B[49m))\n\u001B[32m     93\u001B[39m \u001B[38;5;66;03m# Training exit condition\u001B[39;00m\n\u001B[32m     94\u001B[39m \u001B[38;5;28;01mif\u001B[39;00m mse < threshold:\n",
      "\u001B[31mValueError\u001B[39m: operands could not be broadcast together with shapes (1250,) (250,5) "
     ]
    }
   ],
   "execution_count": 12
  }
 ],
 "metadata": {
  "kernelspec": {
   "display_name": "Python 3",
   "language": "python",
   "name": "python3"
  },
  "language_info": {
   "codemirror_mode": {
    "name": "ipython",
    "version": 2
   },
   "file_extension": ".py",
   "mimetype": "text/x-python",
   "name": "python",
   "nbconvert_exporter": "python",
   "pygments_lexer": "ipython2",
   "version": "2.7.6"
  }
 },
 "nbformat": 4,
 "nbformat_minor": 5
}

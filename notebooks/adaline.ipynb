{
 "cells": [
  {
   "metadata": {},
   "cell_type": "markdown",
   "source": "# Perceptron Adaline",
   "id": "cf79b2f63b69dd39"
  },
  {
   "metadata": {},
   "cell_type": "markdown",
   "source": "## Opérateur logique ET\n",
   "id": "d9590ceb16fc7ed0"
  },
  {
   "metadata": {
    "ExecuteTime": {
     "end_time": "2025-05-06T18:08:20.017402Z",
     "start_time": "2025-05-06T18:08:19.989150Z"
    }
   },
   "cell_type": "code",
   "source": [
    "from perceptron import PerceptronAdaline\n",
    "from utils.data_processing import load_dataframe_from_file\n",
    "import matplotlib.pyplot as plt\n",
    "import numpy as np\n",
    "import pandas as pd\n",
    "\n",
    "perceptron = PerceptronAdaline(input_size=2, learning_rate=0.03, epochs=10000)\n",
    "perceptron.weights = [0.0,0.0,0.0]\n",
    "\n",
    "df = load_dataframe_from_file(\"../datasets/table_2_3.csv\")\n",
    "print(df)\n",
    "\n",
    "history = perceptron.train_classification(df, seuil=0.1251)"
   ],
   "id": "db943e762018c952",
   "outputs": [
    {
     "name": "stdout",
     "output_type": "stream",
     "text": [
      "      inputs  label\n",
      "0  [1, 0, 0]     -1\n",
      "1  [1, 0, 1]     -1\n",
      "2  [1, 1, 0]     -1\n",
      "3  [1, 1, 1]      1\n",
      "Training complete after 202 epochs with MSE=0.12509907853605345 & weights=[-1.48783434  1.00862694  0.99287716] & prediction=[-1.48729559 -0.48023962 -0.48007779  0.46557117]\n"
     ]
    }
   ],
   "execution_count": 19
  },
  {
   "metadata": {},
   "cell_type": "markdown",
   "source": "Une fois que l'entrainement est terminé, on constate que les prédictions du neurone sont bonnes :",
   "id": "b622523f3cfcd9b1"
  },
  {
   "metadata": {
    "ExecuteTime": {
     "end_time": "2025-05-06T18:08:22.598909Z",
     "start_time": "2025-05-06T18:08:22.592516Z"
    }
   },
   "cell_type": "code",
   "source": [
    "for _, row in df.iterrows():\n",
    "    print(f\"Cas {row[\"inputs\"][1:]} : {perceptron.round_predict(row[\"inputs\"])}\")"
   ],
   "id": "3c6a05fafcf2ffc1",
   "outputs": [
    {
     "name": "stdout",
     "output_type": "stream",
     "text": [
      "Cas [0 0] : -1\n",
      "Cas [0 1] : -1\n",
      "Cas [1 0] : -1\n",
      "Cas [1 1] : 1\n"
     ]
    }
   ],
   "execution_count": 20
  },
  {
   "metadata": {
    "ExecuteTime": {
     "end_time": "2025-05-06T18:08:24.179903Z",
     "start_time": "2025-05-06T18:08:24.171233Z"
    }
   },
   "cell_type": "code",
   "source": [
    "training = history.df\n",
    "\n",
    "print(training)"
   ],
   "id": "16f03cccfae583c7",
   "outputs": [
    {
     "name": "stdout",
     "output_type": "stream",
     "text": [
      "     epoch       mse  accuracy\n",
      "0        1  0.474634      0.50\n",
      "1        2  0.453501      0.75\n",
      "2        3  0.435434      0.75\n",
      "3        4  0.419625      0.75\n",
      "4        5  0.405515      0.75\n",
      "..     ...       ...       ...\n",
      "197    198  0.125105      1.00\n",
      "198    199  0.125103      1.00\n",
      "199    200  0.125102      1.00\n",
      "200    201  0.125100      1.00\n",
      "201    202  0.125099      1.00\n",
      "\n",
      "[202 rows x 3 columns]\n"
     ]
    }
   ],
   "execution_count": 21
  }
 ],
 "metadata": {
  "kernelspec": {
   "display_name": "Python 3",
   "language": "python",
   "name": "python3"
  },
  "language_info": {
   "codemirror_mode": {
    "name": "ipython",
    "version": 2
   },
   "file_extension": ".py",
   "mimetype": "text/x-python",
   "name": "python",
   "nbconvert_exporter": "python",
   "pygments_lexer": "ipython2",
   "version": "2.7.6"
  }
 },
 "nbformat": 4,
 "nbformat_minor": 5
}
